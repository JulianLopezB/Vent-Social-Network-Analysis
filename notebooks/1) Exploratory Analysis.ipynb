{
 "cells": [
  {
   "attachments": {
    "descarga.jpeg": {
     "image/jpeg": "[encoded data removed]"
    }
   },
   "cell_type": "markdown",
   "metadata": {},
   "source": [
    "# Data Driven Social Analytics\n",
    "# Project: The Vent Dataset\n",
    "\n",
    "We present the Vent dataset, the largest annotated dataset of text, emotions, and social connections to date. It comprises more than 33 millions posts by nearly a million users together with their social connections. \n",
    "Each post has an associated emotion. \n",
    "There are 705 different emotions, organized in 63 \"emotion categories\", forming a two-level taxonomy of affects.\n",
    "\n",
    "![descarga.jpeg](attachment:descarga.jpeg)"
   ]
  },
  {
   "cell_type": "code",
   "execution_count": 1,
   "metadata": {},
   "outputs": [],
   "source": [
    "import snap\n",
    "import networkx as nx\n",
    "import pandas as pd\n",
    "import matplotlib.pyplot as plt\n",
    "import numpy as np\n",
    "from IPython.display import Image\n",
    "import json  \n",
    "import csv"
   ]
  },
  {
   "cell_type": "markdown",
   "metadata": {},
   "source": [
    "## Data Preparation"
   ]
  },
  {
   "cell_type": "code",
   "execution_count": 2,
   "metadata": {},
   "outputs": [],
   "source": [
    "G = nx.read_edgelist(\"data/vent.edgelist\")\n",
    "metadata = pd.read_csv('data/vents_metadata.csv')\n",
    "emotions = pd.read_csv('data/emotions.csv')\n",
    "categories = pd.read_csv('data/emotion_categories.csv')"
   ]
  },
  {
   "cell_type": "code",
   "execution_count": 3,
   "metadata": {},
   "outputs": [
    {
     "name": "stdout",
     "output_type": "stream",
     "text": [
      "<class 'pandas.core.frame.DataFrame'>\n",
      "RangeIndex: 33623414 entries, 0 to 33623413\n",
      "Data columns (total 4 columns):\n",
      "emotion_id    object\n",
      "user_id       object\n",
      "created_at    object\n",
      "reactions     int64\n",
      "dtypes: int64(1), object(3)\n",
      "memory usage: 1.0+ GB\n"
     ]
    }
   ],
   "source": [
    "metadata.info()"
   ]
  },
  {
   "cell_type": "code",
   "execution_count": 4,
   "metadata": {},
   "outputs": [],
   "source": [
    "metadata = metadata.sort_values(['created_at'])"
   ]
  },
  {
   "cell_type": "code",
   "execution_count": 5,
   "metadata": {},
   "outputs": [
    {
     "name": "stdout",
     "output_type": "stream",
     "text": [
      "<class 'pandas.core.frame.DataFrame'>\n",
      "Int64Index: 934095 entries, 5157017 to 29605385\n",
      "Data columns (total 2 columns):\n",
      "user_id    934095 non-null object\n",
      "id         934095 non-null int64\n",
      "dtypes: int64(1), object(1)\n",
      "memory usage: 21.4+ MB\n"
     ]
    }
   ],
   "source": [
    "# We create a node id for each unique user. Near 1 million users in total.\n",
    "\n",
    "nodes = pd.DataFrame({'user_id': metadata['user_id'].drop_duplicates()})\n",
    "nodes['id']=range(1,len(nodes)+1)\n",
    "nodes.info()"
   ]
  },
  {
   "cell_type": "code",
   "execution_count": 6,
   "metadata": {},
   "outputs": [
    {
     "data": {
      "text/html": [
       "<div>\n",
       "<style scoped>\n",
       "    .dataframe tbody tr th:only-of-type {\n",
       "        vertical-align: middle;\n",
       "    }\n",
       "\n",
       "    .dataframe tbody tr th {\n",
       "        vertical-align: top;\n",
       "    }\n",
       "\n",
       "    .dataframe thead th {\n",
       "        text-align: right;\n",
       "    }\n",
       "</style>\n",
       "<table border=\"1\" class=\"dataframe\">\n",
       "  <thead>\n",
       "    <tr style=\"text-align: right;\">\n",
       "      <th></th>\n",
       "      <th>0</th>\n",
       "      <th>1</th>\n",
       "    </tr>\n",
       "  </thead>\n",
       "  <tbody>\n",
       "    <tr>\n",
       "      <th>0</th>\n",
       "      <td>3aae2d97-0761-445d-9dd4-2879bb38b7b8</td>\n",
       "      <td>d92effc8-8e94-4d39-8e47-5f8fbe69a4ae</td>\n",
       "    </tr>\n",
       "    <tr>\n",
       "      <th>1</th>\n",
       "      <td>3aae2d97-0761-445d-9dd4-2879bb38b7b8</td>\n",
       "      <td>e8e8e84d-ec88-4e76-a5bc-c4037ce8598d</td>\n",
       "    </tr>\n",
       "    <tr>\n",
       "      <th>2</th>\n",
       "      <td>3aae2d97-0761-445d-9dd4-2879bb38b7b8</td>\n",
       "      <td>27be0679-99fd-3803-84fb-fe77d4097374</td>\n",
       "    </tr>\n",
       "    <tr>\n",
       "      <th>3</th>\n",
       "      <td>6d7dd5d2-3f85-42cd-835e-2a4b8dbe843e</td>\n",
       "      <td>f01b03be-518e-4b62-8ac1-0f966fcb0e93</td>\n",
       "    </tr>\n",
       "    <tr>\n",
       "      <th>4</th>\n",
       "      <td>66b3300f-ee30-3860-ab07-75b64182b013</td>\n",
       "      <td>91c6614e-90bb-3271-8236-4209fc072651</td>\n",
       "    </tr>\n",
       "  </tbody>\n",
       "</table>\n",
       "</div>"
      ],
      "text/plain": [
       "                                      0                                     1\n",
       "0  3aae2d97-0761-445d-9dd4-2879bb38b7b8  d92effc8-8e94-4d39-8e47-5f8fbe69a4ae\n",
       "1  3aae2d97-0761-445d-9dd4-2879bb38b7b8  e8e8e84d-ec88-4e76-a5bc-c4037ce8598d\n",
       "2  3aae2d97-0761-445d-9dd4-2879bb38b7b8  27be0679-99fd-3803-84fb-fe77d4097374\n",
       "3  6d7dd5d2-3f85-42cd-835e-2a4b8dbe843e  f01b03be-518e-4b62-8ac1-0f966fcb0e93\n",
       "4  66b3300f-ee30-3860-ab07-75b64182b013  91c6614e-90bb-3271-8236-4209fc072651"
      ]
     },
     "execution_count": 6,
     "metadata": {},
     "output_type": "execute_result"
    }
   ],
   "source": [
    "# Raw edgelist with almost 10 million edges.\n",
    "\n",
    "edges = nx.to_pandas_edgelist(G,'0','1')\n",
    "edges.head()"
   ]
  },
  {
   "cell_type": "code",
   "execution_count": 7,
   "metadata": {},
   "outputs": [
    {
     "data": {
      "text/html": [
       "<div>\n",
       "<style scoped>\n",
       "    .dataframe tbody tr th:only-of-type {\n",
       "        vertical-align: middle;\n",
       "    }\n",
       "\n",
       "    .dataframe tbody tr th {\n",
       "        vertical-align: top;\n",
       "    }\n",
       "\n",
       "    .dataframe thead th {\n",
       "        text-align: right;\n",
       "    }\n",
       "</style>\n",
       "<table border=\"1\" class=\"dataframe\">\n",
       "  <thead>\n",
       "    <tr style=\"text-align: right;\">\n",
       "      <th></th>\n",
       "      <th>0</th>\n",
       "      <th>1</th>\n",
       "    </tr>\n",
       "  </thead>\n",
       "  <tbody>\n",
       "    <tr>\n",
       "      <th>0</th>\n",
       "      <td>389701</td>\n",
       "      <td>590118</td>\n",
       "    </tr>\n",
       "    <tr>\n",
       "      <th>1</th>\n",
       "      <td>380074</td>\n",
       "      <td>590118</td>\n",
       "    </tr>\n",
       "    <tr>\n",
       "      <th>2</th>\n",
       "      <td>600982</td>\n",
       "      <td>590118</td>\n",
       "    </tr>\n",
       "    <tr>\n",
       "      <th>3</th>\n",
       "      <td>810616</td>\n",
       "      <td>590118</td>\n",
       "    </tr>\n",
       "    <tr>\n",
       "      <th>4</th>\n",
       "      <td>582155</td>\n",
       "      <td>590118</td>\n",
       "    </tr>\n",
       "  </tbody>\n",
       "</table>\n",
       "</div>"
      ],
      "text/plain": [
       "        0       1\n",
       "0  389701  590118\n",
       "1  380074  590118\n",
       "2  600982  590118\n",
       "3  810616  590118\n",
       "4  582155  590118"
      ]
     },
     "execution_count": 7,
     "metadata": {},
     "output_type": "execute_result"
    }
   ],
   "source": [
    "# We replace the source and target ids in the edgelist with our new node ids\n",
    "\n",
    "edges = pd.merge(edges, nodes, left_on='0', right_on='user_id')\n",
    "edges['0'] = edges['id']\n",
    "del edges['user_id']\n",
    "del edges['id']\n",
    "edges = pd.merge(edges, nodes, left_on='1', right_on='user_id')\n",
    "edges['1'] = edges['id']\n",
    "del edges['user_id']\n",
    "del edges['id']\n",
    "edges.head()"
   ]
  },
  {
   "cell_type": "code",
   "execution_count": 8,
   "metadata": {},
   "outputs": [],
   "source": [
    "# Save the edges as csv and txt\n",
    "\n",
    "edges.to_csv('data/edges.txt', sep=',', index = False)\n",
    "edges.to_csv('data/edges.csv', sep=',', index = False)"
   ]
  },
  {
   "cell_type": "code",
   "execution_count": 9,
   "metadata": {},
   "outputs": [
    {
     "data": {
      "text/html": [
       "<div>\n",
       "<style scoped>\n",
       "    .dataframe tbody tr th:only-of-type {\n",
       "        vertical-align: middle;\n",
       "    }\n",
       "\n",
       "    .dataframe tbody tr th {\n",
       "        vertical-align: top;\n",
       "    }\n",
       "\n",
       "    .dataframe thead th {\n",
       "        text-align: right;\n",
       "    }\n",
       "</style>\n",
       "<table border=\"1\" class=\"dataframe\">\n",
       "  <thead>\n",
       "    <tr style=\"text-align: right;\">\n",
       "      <th></th>\n",
       "      <th>id</th>\n",
       "      <th>emotion_category_id</th>\n",
       "      <th>emotion_name</th>\n",
       "      <th>enabled</th>\n",
       "      <th>EmotionId</th>\n",
       "    </tr>\n",
       "  </thead>\n",
       "  <tbody>\n",
       "    <tr>\n",
       "      <th>0</th>\n",
       "      <td>cc0971b3-e423-4ca5-95bb-1bb6d1196a97</td>\n",
       "      <td>abdc8e31-96e9-40f9-8ca7-7a4687986074</td>\n",
       "      <td>Adoring</td>\n",
       "      <td>True</td>\n",
       "      <td>1</td>\n",
       "    </tr>\n",
       "    <tr>\n",
       "      <th>1</th>\n",
       "      <td>e96425a8-9841-4433-8177-f4e15e44a823</td>\n",
       "      <td>e7ef5c5b-95d4-4b58-ab23-03376f9ae4e3</td>\n",
       "      <td>🌚 NAUGHTY 🌚</td>\n",
       "      <td>False</td>\n",
       "      <td>2</td>\n",
       "    </tr>\n",
       "    <tr>\n",
       "      <th>2</th>\n",
       "      <td>c36ce961-0dea-4929-93cf-f54214fef290</td>\n",
       "      <td>22740139-e807-4bd0-a6aa-0bfc4dcc7dd7</td>\n",
       "      <td>🌈 Supportive 🌈</td>\n",
       "      <td>True</td>\n",
       "      <td>3</td>\n",
       "    </tr>\n",
       "    <tr>\n",
       "      <th>3</th>\n",
       "      <td>15507c35-9a8a-469d-9ccb-a841be79fc1c</td>\n",
       "      <td>00e7f090-a2ab-4cf4-ad9f-6b45ebb3cb2b</td>\n",
       "      <td>🌎 Powerful 🌏</td>\n",
       "      <td>True</td>\n",
       "      <td>4</td>\n",
       "    </tr>\n",
       "    <tr>\n",
       "      <th>4</th>\n",
       "      <td>1acf46ff-49fc-4d92-9555-3608773ffefc</td>\n",
       "      <td>7db21f2c-f0c8-48e1-8ed3-099124cb5c08</td>\n",
       "      <td>Confused</td>\n",
       "      <td>True</td>\n",
       "      <td>5</td>\n",
       "    </tr>\n",
       "  </tbody>\n",
       "</table>\n",
       "</div>"
      ],
      "text/plain": [
       "                                     id                   emotion_category_id  \\\n",
       "0  cc0971b3-e423-4ca5-95bb-1bb6d1196a97  abdc8e31-96e9-40f9-8ca7-7a4687986074   \n",
       "1  e96425a8-9841-4433-8177-f4e15e44a823  e7ef5c5b-95d4-4b58-ab23-03376f9ae4e3   \n",
       "2  c36ce961-0dea-4929-93cf-f54214fef290  22740139-e807-4bd0-a6aa-0bfc4dcc7dd7   \n",
       "3  15507c35-9a8a-469d-9ccb-a841be79fc1c  00e7f090-a2ab-4cf4-ad9f-6b45ebb3cb2b   \n",
       "4  1acf46ff-49fc-4d92-9555-3608773ffefc  7db21f2c-f0c8-48e1-8ed3-099124cb5c08   \n",
       "\n",
       "       emotion_name  enabled  EmotionId  \n",
       "0           Adoring     True          1  \n",
       "1     🌚 NAUGHTY 🌚    False          2  \n",
       "2  🌈 Supportive 🌈     True          3  \n",
       "3    🌎 Powerful 🌏     True          4  \n",
       "4          Confused     True          5  "
      ]
     },
     "execution_count": 9,
     "metadata": {},
     "output_type": "execute_result"
    }
   ],
   "source": [
    "# We create a new id for each of the 705 emotions.\n",
    "\n",
    "emotions['EmotionId']=range(1,len(emotions)+1)\n",
    "emotions.rename(columns={'name': 'emotion_name'}, inplace=True)\n",
    "emotions.head()"
   ]
  },
  {
   "cell_type": "code",
   "execution_count": 10,
   "metadata": {},
   "outputs": [
    {
     "data": {
      "text/html": [
       "<div>\n",
       "<style scoped>\n",
       "    .dataframe tbody tr th:only-of-type {\n",
       "        vertical-align: middle;\n",
       "    }\n",
       "\n",
       "    .dataframe tbody tr th {\n",
       "        vertical-align: top;\n",
       "    }\n",
       "\n",
       "    .dataframe thead th {\n",
       "        text-align: right;\n",
       "    }\n",
       "</style>\n",
       "<table border=\"1\" class=\"dataframe\">\n",
       "  <thead>\n",
       "    <tr style=\"text-align: right;\">\n",
       "      <th></th>\n",
       "      <th>id</th>\n",
       "      <th>category_name</th>\n",
       "      <th>CategoryId</th>\n",
       "    </tr>\n",
       "  </thead>\n",
       "  <tbody>\n",
       "    <tr>\n",
       "      <th>0</th>\n",
       "      <td>0af046e4-bf8d-4776-8d05-2e5128568330</td>\n",
       "      <td>Anger</td>\n",
       "      <td>1</td>\n",
       "    </tr>\n",
       "    <tr>\n",
       "      <th>1</th>\n",
       "      <td>9d5657eb-7719-42af-9055-c845fa35ba02</td>\n",
       "      <td>🧛 Vampire 🧛</td>\n",
       "      <td>2</td>\n",
       "    </tr>\n",
       "    <tr>\n",
       "      <th>2</th>\n",
       "      <td>d3bc526b-b869-4e04-b959-d9a6783dc487</td>\n",
       "      <td>✨ Advent ✨</td>\n",
       "      <td>3</td>\n",
       "    </tr>\n",
       "    <tr>\n",
       "      <th>3</th>\n",
       "      <td>f40868cf-4839-46cc-9101-81914658375f</td>\n",
       "      <td>🕯️ Trans Remembrance 🕯️</td>\n",
       "      <td>4</td>\n",
       "    </tr>\n",
       "    <tr>\n",
       "      <th>4</th>\n",
       "      <td>c105593f-9e96-47e6-9246-d7458f9a6a4b</td>\n",
       "      <td>🐇 Rabbit Day 🐇</td>\n",
       "      <td>5</td>\n",
       "    </tr>\n",
       "  </tbody>\n",
       "</table>\n",
       "</div>"
      ],
      "text/plain": [
       "                                     id              category_name  CategoryId\n",
       "0  0af046e4-bf8d-4776-8d05-2e5128568330                      Anger           1\n",
       "1  9d5657eb-7719-42af-9055-c845fa35ba02              🧛 Vampire 🧛           2\n",
       "2  d3bc526b-b869-4e04-b959-d9a6783dc487                 ✨ Advent ✨           3\n",
       "3  f40868cf-4839-46cc-9101-81914658375f  🕯️ Trans Remembrance 🕯️           4\n",
       "4  c105593f-9e96-47e6-9246-d7458f9a6a4b           🐇 Rabbit Day 🐇           5"
      ]
     },
     "execution_count": 10,
     "metadata": {},
     "output_type": "execute_result"
    }
   ],
   "source": [
    "# We create a new id for each of the 63 emotion categories.\n",
    "\n",
    "categories['CategoryId']=range(1,len(categories)+1)\n",
    "categories.rename(index=str, columns={\"name\": \"category_name\"}, inplace=True)\n",
    "categories.head()"
   ]
  },
  {
   "cell_type": "code",
   "execution_count": 11,
   "metadata": {},
   "outputs": [
    {
     "data": {
      "text/html": [
       "<div>\n",
       "<style scoped>\n",
       "    .dataframe tbody tr th:only-of-type {\n",
       "        vertical-align: middle;\n",
       "    }\n",
       "\n",
       "    .dataframe tbody tr th {\n",
       "        vertical-align: top;\n",
       "    }\n",
       "\n",
       "    .dataframe thead th {\n",
       "        text-align: right;\n",
       "    }\n",
       "</style>\n",
       "<table border=\"1\" class=\"dataframe\">\n",
       "  <thead>\n",
       "    <tr style=\"text-align: right;\">\n",
       "      <th></th>\n",
       "      <th>emotion_id</th>\n",
       "      <th>user_id</th>\n",
       "      <th>created_at</th>\n",
       "      <th>reactions</th>\n",
       "      <th>emotion_category_id</th>\n",
       "      <th>emotion_name</th>\n",
       "      <th>enabled</th>\n",
       "      <th>category_name</th>\n",
       "    </tr>\n",
       "  </thead>\n",
       "  <tbody>\n",
       "    <tr>\n",
       "      <th>0</th>\n",
       "      <td>134</td>\n",
       "      <td>1</td>\n",
       "      <td>2013-12-17 13:29:06.000</td>\n",
       "      <td>0</td>\n",
       "      <td>15</td>\n",
       "      <td>Sad</td>\n",
       "      <td>True</td>\n",
       "      <td>Sadness</td>\n",
       "    </tr>\n",
       "    <tr>\n",
       "      <th>1</th>\n",
       "      <td>134</td>\n",
       "      <td>2</td>\n",
       "      <td>2014-01-01 08:44:40.000</td>\n",
       "      <td>17</td>\n",
       "      <td>15</td>\n",
       "      <td>Sad</td>\n",
       "      <td>True</td>\n",
       "      <td>Sadness</td>\n",
       "    </tr>\n",
       "    <tr>\n",
       "      <th>2</th>\n",
       "      <td>134</td>\n",
       "      <td>2</td>\n",
       "      <td>2014-01-07 03:51:00.000</td>\n",
       "      <td>0</td>\n",
       "      <td>15</td>\n",
       "      <td>Sad</td>\n",
       "      <td>True</td>\n",
       "      <td>Sadness</td>\n",
       "    </tr>\n",
       "    <tr>\n",
       "      <th>3</th>\n",
       "      <td>134</td>\n",
       "      <td>2</td>\n",
       "      <td>2014-02-07 05:18:38.000</td>\n",
       "      <td>0</td>\n",
       "      <td>15</td>\n",
       "      <td>Sad</td>\n",
       "      <td>True</td>\n",
       "      <td>Sadness</td>\n",
       "    </tr>\n",
       "    <tr>\n",
       "      <th>4</th>\n",
       "      <td>134</td>\n",
       "      <td>2</td>\n",
       "      <td>2014-02-11 13:43:09.000</td>\n",
       "      <td>0</td>\n",
       "      <td>15</td>\n",
       "      <td>Sad</td>\n",
       "      <td>True</td>\n",
       "      <td>Sadness</td>\n",
       "    </tr>\n",
       "  </tbody>\n",
       "</table>\n",
       "</div>"
      ],
      "text/plain": [
       "   emotion_id  user_id               created_at  reactions  \\\n",
       "0         134        1  2013-12-17 13:29:06.000          0   \n",
       "1         134        2  2014-01-01 08:44:40.000         17   \n",
       "2         134        2  2014-01-07 03:51:00.000          0   \n",
       "3         134        2  2014-02-07 05:18:38.000          0   \n",
       "4         134        2  2014-02-11 13:43:09.000          0   \n",
       "\n",
       "   emotion_category_id emotion_name  enabled category_name  \n",
       "0                   15          Sad     True       Sadness  \n",
       "1                   15          Sad     True       Sadness  \n",
       "2                   15          Sad     True       Sadness  \n",
       "3                   15          Sad     True       Sadness  \n",
       "4                   15          Sad     True       Sadness  "
      ]
     },
     "execution_count": 11,
     "metadata": {},
     "output_type": "execute_result"
    }
   ],
   "source": [
    "# We create a new dataset upon the metadata, emotions and categories sets. \n",
    "# The idea is to have a clean and readable data set, with new user, emotion and category ids\n",
    "\n",
    "merged = pd.merge(metadata, nodes, left_on = 'user_id', right_on='user_id')\n",
    "merged['user_id'] = merged['id']\n",
    "del merged['id']\n",
    "\n",
    "merged = pd.merge(merged, emotions, left_on ='emotion_id', right_on='id')\n",
    "merged['emotion_id'] = merged['EmotionId']\n",
    "del merged['id']\n",
    "del merged['EmotionId']\n",
    "\n",
    "merged = pd.merge(merged, categories, left_on = 'emotion_category_id', right_on = 'id')\n",
    "merged['emotion_category_id'] = merged['CategoryId']\n",
    "del merged['id']\n",
    "del merged['CategoryId']\n",
    "\n",
    "merged.head()"
   ]
  },
  {
   "cell_type": "code",
   "execution_count": 12,
   "metadata": {},
   "outputs": [],
   "source": [
    "# save merged as csv and json\n",
    "\n",
    "merged.to_csv('data/metadata_merged.csv', sep=',', index = False)"
   ]
  },
  {
   "cell_type": "markdown",
   "metadata": {},
   "source": [
    "## Network Analysis"
   ]
  },
  {
   "cell_type": "code",
   "execution_count": 2,
   "metadata": {},
   "outputs": [],
   "source": [
    "G = snap.LoadEdgeList(snap.PNGraph,\"data/edges.csv\", 0, 1, ',')"
   ]
  },
  {
   "cell_type": "code",
   "execution_count": 3,
   "metadata": {},
   "outputs": [
    {
     "name": "stdout",
     "output_type": "stream",
     "text": [
      "max wcc nodes 746333, edges 8653028\n"
     ]
    }
   ],
   "source": [
    "# Giant component\n",
    "\n",
    "MxWcc = snap.GetMxWcc(G)\n",
    "print \"max wcc nodes %d, edges %d\" % \\\n",
    "    (MxWcc.GetNodes(), MxWcc.GetEdges())"
   ]
  },
  {
   "cell_type": "code",
   "execution_count": 4,
   "metadata": {},
   "outputs": [],
   "source": [
    "snap.SaveEdgeList(MxWcc, 'data/GCCEdges.csv')"
   ]
  },
  {
   "cell_type": "code",
   "execution_count": 5,
   "metadata": {},
   "outputs": [
    {
     "name": "stdout",
     "output_type": "stream",
     "text": [
      "Vent Stats: Directed\n",
      "  Nodes:                    746333\n",
      "  Edges:                    8653028\n",
      "  Zero Deg Nodes:           0\n",
      "  Zero InDeg Nodes:         144601\n",
      "  Zero OutDeg Nodes:        153705\n",
      "  NonZero In-Out Deg Nodes: 448027\n",
      "  Unique directed edges:    8653028\n",
      "  Unique undirected edges:  8653028\n",
      "  Self Edges:               839\n",
      "  BiDir Edges:              839\n",
      "  Closed triangles:         29819591\n",
      "  Open triangles:           15086073979\n",
      "  Frac. of closed triads:   0.001973\n",
      "  Connected component size: 1.000000\n",
      "  Strong conn. comp. size:  0.000001\n",
      "  Approx. full diameter:    11\n",
      "  90% effective diameter:  3.891798\n",
      "\n"
     ]
    }
   ],
   "source": [
    "snap.PrintInfo(MxWcc, \"Vent Stats\", \"vent-info.txt\",  False)\n",
    "f = open('vent-info.txt', 'r')\n",
    "file_contents = f.read()\n",
    "print (file_contents)\n",
    "f.close()"
   ]
  },
  {
   "cell_type": "code",
   "execution_count": null,
   "metadata": {},
   "outputs": [],
   "source": [
    "numNodes=MxWcc.GetNodes()\n",
    "D = snap.GetBfsFullDiam(MxWcc, numNodes)\n",
    "print \"diameter\", D"
   ]
  },
  {
   "cell_type": "code",
   "execution_count": 4,
   "metadata": {
    "scrolled": false
   },
   "outputs": [
    {
     "data": {
      "image/png": "[encoded data removed]",
      "text/plain": [
       "<IPython.core.display.Image object>"
      ]
     },
     "execution_count": 4,
     "metadata": {},
     "output_type": "execute_result"
    }
   ],
   "source": [
    "snap.PlotInDegDistr(MxWcc, \"Vent\", \"Vent In Degree\")\n",
    "Image(filename='imgs/inDeg.Vent.png')"
   ]
  },
  {
   "cell_type": "code",
   "execution_count": 5,
   "metadata": {},
   "outputs": [
    {
     "data": {
      "image/png": "[encoded data removed]",
      "text/plain": [
       "<IPython.core.display.Image object>"
      ]
     },
     "execution_count": 5,
     "metadata": {},
     "output_type": "execute_result"
    }
   ],
   "source": [
    "snap.PlotOutDegDistr(MxWcc, \"Vent\", \"Vent Out Degree\")\n",
    "Image(filename='imgs/outDeg.Vent.png')"
   ]
  },
  {
   "cell_type": "code",
   "execution_count": 7,
   "metadata": {},
   "outputs": [
    {
     "name": "stdout",
     "output_type": "stream",
     "text": [
      "Core exists for K = 1\n",
      "Core exists for K = 2\n",
      "Core exists for K = 3\n",
      "Core exists for K = 4\n",
      "Core exists for K = 5\n",
      "Core exists for K = 6\n",
      "Core exists for K = 7\n",
      "Core exists for K = 8\n",
      "Core exists for K = 9\n",
      "Core exists for K = 10\n",
      "Core exists for K = 11\n",
      "Core exists for K = 12\n",
      "Core exists for K = 13\n",
      "Core exists for K = 14\n",
      "Core exists for K = 15\n",
      "Core exists for K = 16\n",
      "Core exists for K = 17\n",
      "Core exists for K = 18\n",
      "Core exists for K = 19\n",
      "Core exists for K = 20\n",
      "Core exists for K = 21\n",
      "Core exists for K = 22\n",
      "Core exists for K = 23\n",
      "Core exists for K = 24\n",
      "Core exists for K = 25\n",
      "Core exists for K = 26\n",
      "Core exists for K = 27\n",
      "Core exists for K = 28\n",
      "Core exists for K = 29\n",
      "Core exists for K = 30\n",
      "Core exists for K = 31\n",
      "Core exists for K = 32\n",
      "Core exists for K = 33\n",
      "Core exists for K = 34\n",
      "Core exists for K = 35\n",
      "Core exists for K = 36\n",
      "Core exists for K = 37\n",
      "Core exists for K = 38\n",
      "Core exists for K = 39\n",
      "Core exists for K = 40\n",
      "Core exists for K = 41\n",
      "Core exists for K = 42\n",
      "Core exists for K = 43\n",
      "Core exists for K = 44\n",
      "Core exists for K = 45\n",
      "Core exists for K = 46\n",
      "Core exists for K = 47\n",
      "Core exists for K = 48\n",
      "Core exists for K = 49\n",
      "Core exists for K = 50\n",
      "Core exists for K = 51\n",
      "Core exists for K = 52\n",
      "Core exists for K = 53\n",
      "Core exists for K = 54\n",
      "Core exists for K = 55\n",
      "Core exists for K = 56\n",
      "Core exists for K = 57\n",
      "Core exists for K = 58\n",
      "Core exists for K = 59\n",
      "Core exists for K = 60\n",
      "Core exists for K = 61\n",
      "Core exists for K = 62\n",
      "Core exists for K = 63\n",
      "Core exists for K = 64\n",
      "Core exists for K = 65\n",
      "Core exists for K = 66\n",
      "Core exists for K = 67\n",
      "Core exists for K = 68\n",
      "Core exists for K = 69\n",
      "Core exists for K = 70\n",
      "Core exists for K = 71\n",
      "Core exists for K = 72\n",
      "Core exists for K = 73\n",
      "Core exists for K = 74\n",
      "Core exists for K = 75\n",
      "Core exists for K = 76\n",
      "Core exists for K = 77\n",
      "Core exists for K = 78\n",
      "Core exists for K = 79\n",
      "Core exists for K = 80\n",
      "Core exists for K = 81\n",
      "Core exists for K = 82\n",
      "Core exists for K = 83\n",
      "Core exists for K = 84\n",
      "Core exists for K = 85\n",
      "Core exists for K = 86\n",
      "Core exists for K = 87\n",
      "Core exists for K = 88\n",
      "Core exists for K = 89\n",
      "Core exists for K = 90\n",
      "Core exists for K = 91\n",
      "Core exists for K = 92\n",
      "Core exists for K = 93\n",
      "Core exists for K = 94\n",
      "Core exists for K = 95\n",
      "Core exists for K = 96\n",
      "Core exists for K = 97\n",
      "Core exists for K = 98\n",
      "Core exists for K = 99\n",
      "Core exists for K = 100\n",
      "Core exists for K = 101\n",
      "Core exists for K = 102\n",
      "Core exists for K = 103\n",
      "Core exists for K = 104\n",
      "Core exists for K = 105\n",
      "Core exists for K = 106\n",
      "Core exists for K = 107\n",
      "Core exists for K = 108\n",
      "Core exists for K = 109\n",
      "Core exists for K = 110\n",
      "Core exists for K = 111\n",
      "Core exists for K = 112\n",
      "Core exists for K = 113\n",
      "Core exists for K = 114\n",
      "Core exists for K = 115\n",
      "Core exists for K = 116\n",
      "Core exists for K = 117\n",
      "Core exists for K = 118\n",
      "Core exists for K = 119\n",
      "Core exists for K = 120\n",
      "Core exists for K = 121\n",
      "Core exists for K = 122\n",
      "Core exists for K = 123\n",
      "No Core exists for K = 124\n"
     ]
    }
   ],
   "source": [
    "K=0\n",
    "while True:\n",
    "    K = K+1\n",
    "    KCore = snap.GetKCore(MxWcc, K)\n",
    "    if KCore.Empty():\n",
    "        print 'No Core exists for K = %d' % K\n",
    "        break\n",
    "    else:\n",
    "        print 'Core exists for K = %d' % K"
   ]
  },
  {
   "cell_type": "code",
   "execution_count": null,
   "metadata": {},
   "outputs": [],
   "source": [
    "CoreIDSzV = snap.TIntPrV()\n",
    "kValue = snap.GetKCoreNodes(MxWcc, CoreIDSzV)\n",
    "for item in CoreIDSzV:\n",
    "    print \"k-core: %d nodes: %d\" % (item.GetVal1(), item.GetVal2())"
   ]
  },
  {
   "cell_type": "code",
   "execution_count": null,
   "metadata": {},
   "outputs": [],
   "source": [
    "for item in CoreIDSzV:\n",
    "    print \"order: %d edges: %d\" % (item.GetVal1(), item.GetVal2())"
   ]
  },
  {
   "cell_type": "code",
   "execution_count": 6,
   "metadata": {},
   "outputs": [
    {
     "name": "stdout",
     "output_type": "stream",
     "text": [
      "Clustering coefficient: 0.153645\n"
     ]
    }
   ],
   "source": [
    "GraphClustCoeff = snap.GetClustCf (MxWcc,-1)\n",
    "print \"Clustering coefficient: %f\" % GraphClustCoeff"
   ]
  },
  {
   "cell_type": "code",
   "execution_count": null,
   "metadata": {},
   "outputs": [],
   "source": [
    "numNodes=MxWcc.GetNodes()\n",
    "eff_diameter, diameter, avgsp = snap.GetBfsEffDiamAll(MxWcc, numNodes, False)\n",
    "print \"Effective Diameter: %f, Diameter: %f, Average Shortest Path: %f\" % eff_diameter, diameter, avgsp"
   ]
  },
  {
   "cell_type": "code",
   "execution_count": null,
   "metadata": {},
   "outputs": [],
   "source": []
  }
 ],
 "metadata": {
  "kernelspec": {
   "display_name": "Python 2",
   "language": "python",
   "name": "python2"
  },
  "language_info": {
   "codemirror_mode": {
    "name": "ipython",
    "version": 2
   },
   "file_extension": ".py",
   "mimetype": "text/x-python",
   "name": "python",
   "nbconvert_exporter": "python",
   "pygments_lexer": "ipython2",
   "version": "2.7.15"
  }
 },
 "nbformat": 4,
 "nbformat_minor": 2
}
