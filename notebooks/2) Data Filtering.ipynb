{
 "cells": [
  {
   "cell_type": "code",
   "execution_count": 10,
   "metadata": {
    "scrolled": true
   },
   "outputs": [],
   "source": [
    "import snap\n",
    "from operator import itemgetter\n",
    "import matplotlib.pyplot as plt\n",
    "import networkx as nx\n",
    "import pandas as pd\n",
    "from random import choice\n",
    "from pandas import datetools\n",
    "import datetime\n",
    "import numpy as np"
   ]
  },
  {
   "cell_type": "markdown",
   "metadata": {},
   "source": [
    "### Loading the data"
   ]
  },
  {
   "cell_type": "code",
   "execution_count": 11,
   "metadata": {
    "scrolled": true
   },
   "outputs": [],
   "source": [
    "#G = nx.read_edgelist(\"data/vent.edgelist\")\n",
    "G = nx.read_edgelist(\"data/edges.csv\", delimiter=',', create_using=nx.DiGraph)\n",
    "metadata = pd.read_csv('data/metadata_merged.csv')"
   ]
  },
  {
   "cell_type": "markdown",
   "metadata": {},
   "source": [
    "### Data preprocessing"
   ]
  },
  {
   "cell_type": "code",
   "execution_count": 12,
   "metadata": {
    "scrolled": true
   },
   "outputs": [],
   "source": [
    "metadata['Timestamp']= pd.to_datetime(metadata['created_at'])\n",
    "del metadata['created_at']"
   ]
  },
  {
   "cell_type": "code",
   "execution_count": 13,
   "metadata": {
    "scrolled": true
   },
   "outputs": [
    {
     "data": {
      "text/html": [
       "<div>\n",
       "<style scoped>\n",
       "    .dataframe tbody tr th:only-of-type {\n",
       "        vertical-align: middle;\n",
       "    }\n",
       "\n",
       "    .dataframe tbody tr th {\n",
       "        vertical-align: top;\n",
       "    }\n",
       "\n",
       "    .dataframe thead th {\n",
       "        text-align: right;\n",
       "    }\n",
       "</style>\n",
       "<table border=\"1\" class=\"dataframe\">\n",
       "  <thead>\n",
       "    <tr style=\"text-align: right;\">\n",
       "      <th></th>\n",
       "      <th>emotion_id</th>\n",
       "      <th>user_id</th>\n",
       "      <th>reactions</th>\n",
       "      <th>emotion_category_id</th>\n",
       "      <th>emotion_name</th>\n",
       "      <th>enabled</th>\n",
       "      <th>category_name</th>\n",
       "      <th>Timestamp</th>\n",
       "    </tr>\n",
       "  </thead>\n",
       "  <tbody>\n",
       "    <tr>\n",
       "      <th>0</th>\n",
       "      <td>134</td>\n",
       "      <td>1</td>\n",
       "      <td>0</td>\n",
       "      <td>15</td>\n",
       "      <td>Sad</td>\n",
       "      <td>True</td>\n",
       "      <td>Sadness</td>\n",
       "      <td>2013-12-17 13:29:06</td>\n",
       "    </tr>\n",
       "    <tr>\n",
       "      <th>1</th>\n",
       "      <td>134</td>\n",
       "      <td>2</td>\n",
       "      <td>17</td>\n",
       "      <td>15</td>\n",
       "      <td>Sad</td>\n",
       "      <td>True</td>\n",
       "      <td>Sadness</td>\n",
       "      <td>2014-01-01 08:44:40</td>\n",
       "    </tr>\n",
       "    <tr>\n",
       "      <th>2</th>\n",
       "      <td>134</td>\n",
       "      <td>2</td>\n",
       "      <td>0</td>\n",
       "      <td>15</td>\n",
       "      <td>Sad</td>\n",
       "      <td>True</td>\n",
       "      <td>Sadness</td>\n",
       "      <td>2014-01-07 03:51:00</td>\n",
       "    </tr>\n",
       "    <tr>\n",
       "      <th>3</th>\n",
       "      <td>134</td>\n",
       "      <td>2</td>\n",
       "      <td>0</td>\n",
       "      <td>15</td>\n",
       "      <td>Sad</td>\n",
       "      <td>True</td>\n",
       "      <td>Sadness</td>\n",
       "      <td>2014-02-07 05:18:38</td>\n",
       "    </tr>\n",
       "    <tr>\n",
       "      <th>4</th>\n",
       "      <td>134</td>\n",
       "      <td>2</td>\n",
       "      <td>0</td>\n",
       "      <td>15</td>\n",
       "      <td>Sad</td>\n",
       "      <td>True</td>\n",
       "      <td>Sadness</td>\n",
       "      <td>2014-02-11 13:43:09</td>\n",
       "    </tr>\n",
       "  </tbody>\n",
       "</table>\n",
       "</div>"
      ],
      "text/plain": [
       "   emotion_id  user_id  reactions  emotion_category_id emotion_name  enabled  \\\n",
       "0         134        1          0                   15          Sad     True   \n",
       "1         134        2         17                   15          Sad     True   \n",
       "2         134        2          0                   15          Sad     True   \n",
       "3         134        2          0                   15          Sad     True   \n",
       "4         134        2          0                   15          Sad     True   \n",
       "\n",
       "  category_name           Timestamp  \n",
       "0       Sadness 2013-12-17 13:29:06  \n",
       "1       Sadness 2014-01-01 08:44:40  \n",
       "2       Sadness 2014-01-07 03:51:00  \n",
       "3       Sadness 2014-02-07 05:18:38  \n",
       "4       Sadness 2014-02-11 13:43:09  "
      ]
     },
     "execution_count": 13,
     "metadata": {},
     "output_type": "execute_result"
    }
   ],
   "source": [
    "metadata.head()"
   ]
  },
  {
   "cell_type": "markdown",
   "metadata": {},
   "source": [
    "# Activity stats per user (number of vents, first vent and last vent)"
   ]
  },
  {
   "cell_type": "code",
   "execution_count": 14,
   "metadata": {},
   "outputs": [
    {
     "data": {
      "text/html": [
       "<div>\n",
       "<style scoped>\n",
       "    .dataframe tbody tr th:only-of-type {\n",
       "        vertical-align: middle;\n",
       "    }\n",
       "\n",
       "    .dataframe tbody tr th {\n",
       "        vertical-align: top;\n",
       "    }\n",
       "\n",
       "    .dataframe thead th {\n",
       "        text-align: right;\n",
       "    }\n",
       "</style>\n",
       "<table border=\"1\" class=\"dataframe\">\n",
       "  <thead>\n",
       "    <tr style=\"text-align: right;\">\n",
       "      <th></th>\n",
       "      <th>num_vents</th>\n",
       "      <th>first_vent</th>\n",
       "      <th>last_vent</th>\n",
       "    </tr>\n",
       "    <tr>\n",
       "      <th>user_id</th>\n",
       "      <th></th>\n",
       "      <th></th>\n",
       "      <th></th>\n",
       "    </tr>\n",
       "  </thead>\n",
       "  <tbody>\n",
       "    <tr>\n",
       "      <th>1</th>\n",
       "      <td>1</td>\n",
       "      <td>2013-12-17 13:29:06</td>\n",
       "      <td>2013-12-17 13:29:06.000</td>\n",
       "    </tr>\n",
       "    <tr>\n",
       "      <th>2</th>\n",
       "      <td>278</td>\n",
       "      <td>2013-12-30 20:33:32</td>\n",
       "      <td>2018-10-13 08:16:08.193</td>\n",
       "    </tr>\n",
       "    <tr>\n",
       "      <th>3</th>\n",
       "      <td>403</td>\n",
       "      <td>2013-12-31 02:50:24</td>\n",
       "      <td>2016-06-14 12:28:40.572</td>\n",
       "    </tr>\n",
       "    <tr>\n",
       "      <th>4</th>\n",
       "      <td>2</td>\n",
       "      <td>2013-12-31 03:02:54</td>\n",
       "      <td>2013-12-31 03:05:03.000</td>\n",
       "    </tr>\n",
       "    <tr>\n",
       "      <th>5</th>\n",
       "      <td>6</td>\n",
       "      <td>2013-12-31 04:27:36</td>\n",
       "      <td>2014-08-07 15:38:30.000</td>\n",
       "    </tr>\n",
       "  </tbody>\n",
       "</table>\n",
       "</div>"
      ],
      "text/plain": [
       "         num_vents          first_vent               last_vent\n",
       "user_id                                                       \n",
       "1                1 2013-12-17 13:29:06 2013-12-17 13:29:06.000\n",
       "2              278 2013-12-30 20:33:32 2018-10-13 08:16:08.193\n",
       "3              403 2013-12-31 02:50:24 2016-06-14 12:28:40.572\n",
       "4                2 2013-12-31 03:02:54 2013-12-31 03:05:03.000\n",
       "5                6 2013-12-31 04:27:36 2014-08-07 15:38:30.000"
      ]
     },
     "execution_count": 14,
     "metadata": {},
     "output_type": "execute_result"
    }
   ],
   "source": [
    "user_vents = metadata.groupby('user_id')['Timestamp'].agg(['count','min','max'])\n",
    "user_vents.columns = ['num_vents', 'first_vent', 'last_vent']\n",
    "user_vents.head()"
   ]
  },
  {
   "cell_type": "markdown",
   "metadata": {},
   "source": [
    "### Sum reaction, mean reaction and max reaction per user"
   ]
  },
  {
   "cell_type": "code",
   "execution_count": 15,
   "metadata": {},
   "outputs": [
    {
     "data": {
      "text/html": [
       "<div>\n",
       "<style scoped>\n",
       "    .dataframe tbody tr th:only-of-type {\n",
       "        vertical-align: middle;\n",
       "    }\n",
       "\n",
       "    .dataframe tbody tr th {\n",
       "        vertical-align: top;\n",
       "    }\n",
       "\n",
       "    .dataframe thead th {\n",
       "        text-align: right;\n",
       "    }\n",
       "</style>\n",
       "<table border=\"1\" class=\"dataframe\">\n",
       "  <thead>\n",
       "    <tr style=\"text-align: right;\">\n",
       "      <th></th>\n",
       "      <th>sum_reactions</th>\n",
       "      <th>mean_reactions</th>\n",
       "      <th>max_reaction</th>\n",
       "    </tr>\n",
       "    <tr>\n",
       "      <th>user_id</th>\n",
       "      <th></th>\n",
       "      <th></th>\n",
       "      <th></th>\n",
       "    </tr>\n",
       "  </thead>\n",
       "  <tbody>\n",
       "    <tr>\n",
       "      <th>1</th>\n",
       "      <td>0</td>\n",
       "      <td>0.000000</td>\n",
       "      <td>0</td>\n",
       "    </tr>\n",
       "    <tr>\n",
       "      <th>2</th>\n",
       "      <td>1702</td>\n",
       "      <td>6.122302</td>\n",
       "      <td>57</td>\n",
       "    </tr>\n",
       "    <tr>\n",
       "      <th>3</th>\n",
       "      <td>2758</td>\n",
       "      <td>6.843672</td>\n",
       "      <td>130</td>\n",
       "    </tr>\n",
       "    <tr>\n",
       "      <th>4</th>\n",
       "      <td>0</td>\n",
       "      <td>0.000000</td>\n",
       "      <td>0</td>\n",
       "    </tr>\n",
       "    <tr>\n",
       "      <th>5</th>\n",
       "      <td>0</td>\n",
       "      <td>0.000000</td>\n",
       "      <td>0</td>\n",
       "    </tr>\n",
       "  </tbody>\n",
       "</table>\n",
       "</div>"
      ],
      "text/plain": [
       "         sum_reactions  mean_reactions  max_reaction\n",
       "user_id                                             \n",
       "1                    0        0.000000             0\n",
       "2                 1702        6.122302            57\n",
       "3                 2758        6.843672           130\n",
       "4                    0        0.000000             0\n",
       "5                    0        0.000000             0"
      ]
     },
     "execution_count": 15,
     "metadata": {},
     "output_type": "execute_result"
    }
   ],
   "source": [
    "user_reactions = metadata.groupby('user_id')['reactions'].agg(['sum','mean','max'])\n",
    "user_reactions.columns = ['sum_reactions', 'mean_reactions', 'max_reaction']\n",
    "user_reactions.head()"
   ]
  },
  {
   "cell_type": "markdown",
   "metadata": {},
   "source": [
    "### Merge the last two sets"
   ]
  },
  {
   "cell_type": "code",
   "execution_count": 16,
   "metadata": {
    "scrolled": true
   },
   "outputs": [
    {
     "data": {
      "text/html": [
       "<div>\n",
       "<style scoped>\n",
       "    .dataframe tbody tr th:only-of-type {\n",
       "        vertical-align: middle;\n",
       "    }\n",
       "\n",
       "    .dataframe tbody tr th {\n",
       "        vertical-align: top;\n",
       "    }\n",
       "\n",
       "    .dataframe thead th {\n",
       "        text-align: right;\n",
       "    }\n",
       "</style>\n",
       "<table border=\"1\" class=\"dataframe\">\n",
       "  <thead>\n",
       "    <tr style=\"text-align: right;\">\n",
       "      <th></th>\n",
       "      <th>num_vents</th>\n",
       "      <th>first_vent</th>\n",
       "      <th>last_vent</th>\n",
       "      <th>sum_reactions</th>\n",
       "      <th>mean_reactions</th>\n",
       "      <th>max_reaction</th>\n",
       "    </tr>\n",
       "    <tr>\n",
       "      <th>user_id</th>\n",
       "      <th></th>\n",
       "      <th></th>\n",
       "      <th></th>\n",
       "      <th></th>\n",
       "      <th></th>\n",
       "      <th></th>\n",
       "    </tr>\n",
       "  </thead>\n",
       "  <tbody>\n",
       "    <tr>\n",
       "      <th>1</th>\n",
       "      <td>1</td>\n",
       "      <td>2013-12-17 13:29:06</td>\n",
       "      <td>2013-12-17 13:29:06.000</td>\n",
       "      <td>0</td>\n",
       "      <td>0.000000</td>\n",
       "      <td>0</td>\n",
       "    </tr>\n",
       "    <tr>\n",
       "      <th>2</th>\n",
       "      <td>278</td>\n",
       "      <td>2013-12-30 20:33:32</td>\n",
       "      <td>2018-10-13 08:16:08.193</td>\n",
       "      <td>1702</td>\n",
       "      <td>6.122302</td>\n",
       "      <td>57</td>\n",
       "    </tr>\n",
       "    <tr>\n",
       "      <th>3</th>\n",
       "      <td>403</td>\n",
       "      <td>2013-12-31 02:50:24</td>\n",
       "      <td>2016-06-14 12:28:40.572</td>\n",
       "      <td>2758</td>\n",
       "      <td>6.843672</td>\n",
       "      <td>130</td>\n",
       "    </tr>\n",
       "    <tr>\n",
       "      <th>4</th>\n",
       "      <td>2</td>\n",
       "      <td>2013-12-31 03:02:54</td>\n",
       "      <td>2013-12-31 03:05:03.000</td>\n",
       "      <td>0</td>\n",
       "      <td>0.000000</td>\n",
       "      <td>0</td>\n",
       "    </tr>\n",
       "    <tr>\n",
       "      <th>5</th>\n",
       "      <td>6</td>\n",
       "      <td>2013-12-31 04:27:36</td>\n",
       "      <td>2014-08-07 15:38:30.000</td>\n",
       "      <td>0</td>\n",
       "      <td>0.000000</td>\n",
       "      <td>0</td>\n",
       "    </tr>\n",
       "  </tbody>\n",
       "</table>\n",
       "</div>"
      ],
      "text/plain": [
       "         num_vents          first_vent               last_vent  sum_reactions  \\\n",
       "user_id                                                                         \n",
       "1                1 2013-12-17 13:29:06 2013-12-17 13:29:06.000              0   \n",
       "2              278 2013-12-30 20:33:32 2018-10-13 08:16:08.193           1702   \n",
       "3              403 2013-12-31 02:50:24 2016-06-14 12:28:40.572           2758   \n",
       "4                2 2013-12-31 03:02:54 2013-12-31 03:05:03.000              0   \n",
       "5                6 2013-12-31 04:27:36 2014-08-07 15:38:30.000              0   \n",
       "\n",
       "         mean_reactions  max_reaction  \n",
       "user_id                                \n",
       "1              0.000000             0  \n",
       "2              6.122302            57  \n",
       "3              6.843672           130  \n",
       "4              0.000000             0  \n",
       "5              0.000000             0  "
      ]
     },
     "execution_count": 16,
     "metadata": {},
     "output_type": "execute_result"
    }
   ],
   "source": [
    "user_activity = pd.merge(user_vents, user_reactions, how='inner', on='user_id')\n",
    "user_activity.index.astype(int)\n",
    "user_activity.head()"
   ]
  },
  {
   "cell_type": "markdown",
   "metadata": {},
   "source": [
    "### Histogram of number of vents per user (normal and log-scale)"
   ]
  },
  {
   "cell_type": "code",
   "execution_count": 22,
   "metadata": {},
   "outputs": [
    {
     "data": {
      "image/png": "[encoded data removed]",
      "text/plain": [
       "<Figure size 432x288 with 1 Axes>"
      ]
     },
     "metadata": {
      "needs_background": "light"
     },
     "output_type": "display_data"
    }
   ],
   "source": [
    "hist, bins, _ = plt.hist(user_activity['num_vents'], bins=8)"
   ]
  },
  {
   "cell_type": "code",
   "execution_count": 55,
   "metadata": {},
   "outputs": [
    {
     "data": {
      "image/png": "[encoded data removed]",
      "text/plain": [
       "<Figure size 432x288 with 1 Axes>"
      ]
     },
     "metadata": {
      "needs_background": "light"
     },
     "output_type": "display_data"
    }
   ],
   "source": [
    "# histogram on log scale. \n",
    "logbins = np.logspace(np.log10(bins[0]),np.log10(bins[-1]),len(bins))\n",
    "plt.hist(user_activity['num_vents'], bins=logbins)\n",
    "plt.xscale('log')\n",
    "plt.title(\"Vent Histogram\")\n",
    "plt.xlabel(\"Number of vents\")\n",
    "plt.ylabel(\"Number of users\")\n",
    "plt.show()"
   ]
  },
  {
   "cell_type": "markdown",
   "metadata": {},
   "source": [
    "# Network stats per node"
   ]
  },
  {
   "cell_type": "code",
   "execution_count": 21,
   "metadata": {},
   "outputs": [],
   "source": [
    "nodes = G.nodes"
   ]
  },
  {
   "cell_type": "code",
   "execution_count": 22,
   "metadata": {},
   "outputs": [],
   "source": [
    "node_and_degree = G.degree()"
   ]
  },
  {
   "cell_type": "code",
   "execution_count": 23,
   "metadata": {},
   "outputs": [
    {
     "data": {
      "text/html": [
       "<div>\n",
       "<style scoped>\n",
       "    .dataframe tbody tr th:only-of-type {\n",
       "        vertical-align: middle;\n",
       "    }\n",
       "\n",
       "    .dataframe tbody tr th {\n",
       "        vertical-align: top;\n",
       "    }\n",
       "\n",
       "    .dataframe thead th {\n",
       "        text-align: right;\n",
       "    }\n",
       "</style>\n",
       "<table border=\"1\" class=\"dataframe\">\n",
       "  <thead>\n",
       "    <tr style=\"text-align: right;\">\n",
       "      <th></th>\n",
       "      <th>user_id</th>\n",
       "      <th>degree</th>\n",
       "    </tr>\n",
       "  </thead>\n",
       "  <tbody>\n",
       "    <tr>\n",
       "      <th>0</th>\n",
       "      <td>287144</td>\n",
       "      <td>4</td>\n",
       "    </tr>\n",
       "    <tr>\n",
       "      <th>1</th>\n",
       "      <td>378467</td>\n",
       "      <td>13</td>\n",
       "    </tr>\n",
       "    <tr>\n",
       "      <th>2</th>\n",
       "      <td>378464</td>\n",
       "      <td>2</td>\n",
       "    </tr>\n",
       "    <tr>\n",
       "      <th>3</th>\n",
       "      <td>378465</td>\n",
       "      <td>69</td>\n",
       "    </tr>\n",
       "    <tr>\n",
       "      <th>4</th>\n",
       "      <td>287140</td>\n",
       "      <td>27</td>\n",
       "    </tr>\n",
       "  </tbody>\n",
       "</table>\n",
       "</div>"
      ],
      "text/plain": [
       "  user_id  degree\n",
       "0  287144       4\n",
       "1  378467      13\n",
       "2  378464       2\n",
       "3  378465      69\n",
       "4  287140      27"
      ]
     },
     "execution_count": 23,
     "metadata": {},
     "output_type": "execute_result"
    }
   ],
   "source": [
    "nodes_stats = pd.DataFrame([[i[0],i[1]] for i in dict(node_and_degree).items()], columns=['user_id', 'degree'])\n",
    "nodes_stats.head()"
   ]
  },
  {
   "cell_type": "code",
   "execution_count": 12,
   "metadata": {},
   "outputs": [],
   "source": [
    "### eigenvector = nx.eigenvector_centrality(G)"
   ]
  },
  {
   "cell_type": "code",
   "execution_count": 13,
   "metadata": {},
   "outputs": [],
   "source": [
    "#betweenness = nx.betweenness_centrality(G)"
   ]
  },
  {
   "cell_type": "code",
   "execution_count": 14,
   "metadata": {},
   "outputs": [],
   "source": [
    "#nodes_stats.index = nodes_stats['user_id']\n",
    "#del nodes_stats['user_id']\n",
    "#nodes_stats.head()"
   ]
  },
  {
   "cell_type": "code",
   "execution_count": 24,
   "metadata": {},
   "outputs": [],
   "source": [
    "user_activity.index=user_activity.index.astype(int)"
   ]
  },
  {
   "cell_type": "code",
   "execution_count": 25,
   "metadata": {},
   "outputs": [],
   "source": [
    "nodes_stats['user_id']=nodes_stats['user_id'].astype(int)"
   ]
  },
  {
   "cell_type": "markdown",
   "metadata": {},
   "source": [
    "### Adds to the activity user dataset a column witht the degrees"
   ]
  },
  {
   "cell_type": "code",
   "execution_count": 26,
   "metadata": {},
   "outputs": [
    {
     "data": {
      "text/html": [
       "<div>\n",
       "<style scoped>\n",
       "    .dataframe tbody tr th:only-of-type {\n",
       "        vertical-align: middle;\n",
       "    }\n",
       "\n",
       "    .dataframe tbody tr th {\n",
       "        vertical-align: top;\n",
       "    }\n",
       "\n",
       "    .dataframe thead th {\n",
       "        text-align: right;\n",
       "    }\n",
       "</style>\n",
       "<table border=\"1\" class=\"dataframe\">\n",
       "  <thead>\n",
       "    <tr style=\"text-align: right;\">\n",
       "      <th></th>\n",
       "      <th>user_id</th>\n",
       "      <th>degree</th>\n",
       "      <th>num_vents</th>\n",
       "      <th>first_vent</th>\n",
       "      <th>last_vent</th>\n",
       "      <th>sum_reactions</th>\n",
       "      <th>mean_reactions</th>\n",
       "      <th>max_reaction</th>\n",
       "    </tr>\n",
       "  </thead>\n",
       "  <tbody>\n",
       "    <tr>\n",
       "      <th>0</th>\n",
       "      <td>287144</td>\n",
       "      <td>4</td>\n",
       "      <td>1</td>\n",
       "      <td>2015-07-01 05:01:36.739</td>\n",
       "      <td>2015-07-01 05:01:36.739</td>\n",
       "      <td>1</td>\n",
       "      <td>1.000000</td>\n",
       "      <td>1</td>\n",
       "    </tr>\n",
       "    <tr>\n",
       "      <th>1</th>\n",
       "      <td>378467</td>\n",
       "      <td>13</td>\n",
       "      <td>4</td>\n",
       "      <td>2015-12-18 14:38:36.731</td>\n",
       "      <td>2015-12-22 22:17:55.232</td>\n",
       "      <td>17</td>\n",
       "      <td>4.250000</td>\n",
       "      <td>6</td>\n",
       "    </tr>\n",
       "    <tr>\n",
       "      <th>2</th>\n",
       "      <td>378464</td>\n",
       "      <td>2</td>\n",
       "      <td>5</td>\n",
       "      <td>2015-12-18 14:35:59.764</td>\n",
       "      <td>2015-12-22 05:56:45.742</td>\n",
       "      <td>23</td>\n",
       "      <td>4.600000</td>\n",
       "      <td>8</td>\n",
       "    </tr>\n",
       "    <tr>\n",
       "      <th>3</th>\n",
       "      <td>378465</td>\n",
       "      <td>69</td>\n",
       "      <td>124</td>\n",
       "      <td>2015-12-18 14:36:52.884</td>\n",
       "      <td>2017-04-15 14:43:27.586</td>\n",
       "      <td>933</td>\n",
       "      <td>7.524194</td>\n",
       "      <td>37</td>\n",
       "    </tr>\n",
       "    <tr>\n",
       "      <th>4</th>\n",
       "      <td>287140</td>\n",
       "      <td>27</td>\n",
       "      <td>2</td>\n",
       "      <td>2015-07-01 04:57:40.385</td>\n",
       "      <td>2015-07-02 11:02:17.449</td>\n",
       "      <td>11</td>\n",
       "      <td>5.500000</td>\n",
       "      <td>7</td>\n",
       "    </tr>\n",
       "  </tbody>\n",
       "</table>\n",
       "</div>"
      ],
      "text/plain": [
       "   user_id  degree  num_vents              first_vent               last_vent  \\\n",
       "0   287144       4          1 2015-07-01 05:01:36.739 2015-07-01 05:01:36.739   \n",
       "1   378467      13          4 2015-12-18 14:38:36.731 2015-12-22 22:17:55.232   \n",
       "2   378464       2          5 2015-12-18 14:35:59.764 2015-12-22 05:56:45.742   \n",
       "3   378465      69        124 2015-12-18 14:36:52.884 2017-04-15 14:43:27.586   \n",
       "4   287140      27          2 2015-07-01 04:57:40.385 2015-07-02 11:02:17.449   \n",
       "\n",
       "   sum_reactions  mean_reactions  max_reaction  \n",
       "0              1        1.000000             1  \n",
       "1             17        4.250000             6  \n",
       "2             23        4.600000             8  \n",
       "3            933        7.524194            37  \n",
       "4             11        5.500000             7  "
      ]
     },
     "execution_count": 26,
     "metadata": {},
     "output_type": "execute_result"
    }
   ],
   "source": [
    "users_stats = pd.merge(nodes_stats, user_activity, how='inner', on='user_id')\n",
    "users_stats.head()"
   ]
  },
  {
   "cell_type": "markdown",
   "metadata": {},
   "source": [
    "### Keeps users with degree more than 10 and less than 10000, that vents more than avereage (36)"
   ]
  },
  {
   "cell_type": "code",
   "execution_count": 27,
   "metadata": {},
   "outputs": [
    {
     "name": "stderr",
     "output_type": "stream",
     "text": [
      "/Users/julian/anaconda/envs/py27/lib/python2.7/site-packages/ipykernel_launcher.py:5: SettingWithCopyWarning: \n",
      "A value is trying to be set on a copy of a slice from a DataFrame.\n",
      "Try using .loc[row_indexer,col_indexer] = value instead\n",
      "\n",
      "See the caveats in the documentation: http://pandas.pydata.org/pandas-docs/stable/indexing.html#indexing-view-versus-copy\n",
      "  \"\"\"\n"
     ]
    },
    {
     "data": {
      "text/html": [
       "<div>\n",
       "<style scoped>\n",
       "    .dataframe tbody tr th:only-of-type {\n",
       "        vertical-align: middle;\n",
       "    }\n",
       "\n",
       "    .dataframe tbody tr th {\n",
       "        vertical-align: top;\n",
       "    }\n",
       "\n",
       "    .dataframe thead th {\n",
       "        text-align: right;\n",
       "    }\n",
       "</style>\n",
       "<table border=\"1\" class=\"dataframe\">\n",
       "  <thead>\n",
       "    <tr style=\"text-align: right;\">\n",
       "      <th></th>\n",
       "      <th>user_id</th>\n",
       "      <th>degree</th>\n",
       "      <th>num_vents</th>\n",
       "      <th>first_vent</th>\n",
       "      <th>last_vent</th>\n",
       "      <th>sum_reactions</th>\n",
       "      <th>mean_reactions</th>\n",
       "      <th>max_reaction</th>\n",
       "    </tr>\n",
       "  </thead>\n",
       "  <tbody>\n",
       "    <tr>\n",
       "      <th>3</th>\n",
       "      <td>3</td>\n",
       "      <td>69</td>\n",
       "      <td>124</td>\n",
       "      <td>2015-12-18 14:36:52.884</td>\n",
       "      <td>2017-04-15 14:43:27.586</td>\n",
       "      <td>933</td>\n",
       "      <td>7.524194</td>\n",
       "      <td>37</td>\n",
       "    </tr>\n",
       "    <tr>\n",
       "      <th>14</th>\n",
       "      <td>14</td>\n",
       "      <td>31</td>\n",
       "      <td>108</td>\n",
       "      <td>2015-03-31 08:00:37.000</td>\n",
       "      <td>2018-01-09 20:19:30.118</td>\n",
       "      <td>504</td>\n",
       "      <td>4.666667</td>\n",
       "      <td>24</td>\n",
       "    </tr>\n",
       "    <tr>\n",
       "      <th>21</th>\n",
       "      <td>21</td>\n",
       "      <td>86</td>\n",
       "      <td>88</td>\n",
       "      <td>2017-12-23 13:15:16.088</td>\n",
       "      <td>2018-03-09 00:36:17.254</td>\n",
       "      <td>1649</td>\n",
       "      <td>18.738636</td>\n",
       "      <td>1183</td>\n",
       "    </tr>\n",
       "    <tr>\n",
       "      <th>26</th>\n",
       "      <td>26</td>\n",
       "      <td>10</td>\n",
       "      <td>67</td>\n",
       "      <td>2017-12-23 13:32:43.061</td>\n",
       "      <td>2018-07-05 13:27:33.170</td>\n",
       "      <td>436</td>\n",
       "      <td>6.507463</td>\n",
       "      <td>20</td>\n",
       "    </tr>\n",
       "    <tr>\n",
       "      <th>37</th>\n",
       "      <td>37</td>\n",
       "      <td>75</td>\n",
       "      <td>1392</td>\n",
       "      <td>2015-12-15 03:32:33.197</td>\n",
       "      <td>2016-08-23 00:02:44.760</td>\n",
       "      <td>3871</td>\n",
       "      <td>2.780891</td>\n",
       "      <td>15</td>\n",
       "    </tr>\n",
       "  </tbody>\n",
       "</table>\n",
       "</div>"
      ],
      "text/plain": [
       "    user_id  degree  num_vents              first_vent  \\\n",
       "3         3      69        124 2015-12-18 14:36:52.884   \n",
       "14       14      31        108 2015-03-31 08:00:37.000   \n",
       "21       21      86         88 2017-12-23 13:15:16.088   \n",
       "26       26      10         67 2017-12-23 13:32:43.061   \n",
       "37       37      75       1392 2015-12-15 03:32:33.197   \n",
       "\n",
       "                 last_vent  sum_reactions  mean_reactions  max_reaction  \n",
       "3  2017-04-15 14:43:27.586            933        7.524194            37  \n",
       "14 2018-01-09 20:19:30.118            504        4.666667            24  \n",
       "21 2018-03-09 00:36:17.254           1649       18.738636          1183  \n",
       "26 2018-07-05 13:27:33.170            436        6.507463            20  \n",
       "37 2016-08-23 00:02:44.760           3871        2.780891            15  "
      ]
     },
     "execution_count": 27,
     "metadata": {},
     "output_type": "execute_result"
    }
   ],
   "source": [
    "user_filtered = users_stats[(users_stats['num_vents']>36) &\n",
    "                            (users_stats['degree']<=10000) &\n",
    "                            (users_stats['degree']>=10) \n",
    "                           ]\n",
    "user_filtered['user_id']=user_filtered.index\n",
    "user_filtered.head()"
   ]
  },
  {
   "cell_type": "markdown",
   "metadata": {},
   "source": [
    "### Filters the metadata upon the filtered user list"
   ]
  },
  {
   "cell_type": "code",
   "execution_count": 29,
   "metadata": {},
   "outputs": [],
   "source": [
    "metadata_filtered = metadata[metadata['user_id'].isin(user_filtered['user_id'])]"
   ]
  },
  {
   "cell_type": "code",
   "execution_count": 30,
   "metadata": {},
   "outputs": [],
   "source": [
    "metadata_filtered.to_csv('data/metadata_filtered.csv', ' ')"
   ]
  },
  {
   "cell_type": "markdown",
   "metadata": {},
   "source": [
    "### Creating a graph with the selected nodes"
   ]
  },
  {
   "cell_type": "code",
   "execution_count": 31,
   "metadata": {
    "scrolled": true
   },
   "outputs": [],
   "source": [
    "#edges_pd = nx.to_pandas_edgelist(G,'0','1')\n",
    "edges_pd = pd.read_csv('data/edges.csv',',', index_col=False, comment='#')"
   ]
  },
  {
   "cell_type": "code",
   "execution_count": 32,
   "metadata": {},
   "outputs": [],
   "source": [
    "edges_filtered = edges_pd[edges_pd['0'].isin(list(metadata_filtered['user_id']))]\n",
    "edges_filtered = edges_filtered[edges_filtered['1'].isin(metadata_filtered['user_id'])]"
   ]
  },
  {
   "cell_type": "code",
   "execution_count": 41,
   "metadata": {},
   "outputs": [],
   "source": [
    "edges_filtered.to_csv('data/edges_filtered.csv',',')"
   ]
  },
  {
   "cell_type": "code",
   "execution_count": 42,
   "metadata": {},
   "outputs": [
    {
     "data": {
      "text/plain": [
       "0    151974\n",
       "1    151974\n",
       "dtype: int64"
      ]
     },
     "execution_count": 42,
     "metadata": {},
     "output_type": "execute_result"
    }
   ],
   "source": [
    "edges_filtered.count()"
   ]
  },
  {
   "cell_type": "code",
   "execution_count": null,
   "metadata": {},
   "outputs": [],
   "source": []
  }
 ],
 "metadata": {
  "kernelspec": {
   "display_name": "Python 2",
   "language": "python",
   "name": "python2"
  },
  "language_info": {
   "codemirror_mode": {
    "name": "ipython",
    "version": 2
   },
   "file_extension": ".py",
   "mimetype": "text/x-python",
   "name": "python",
   "nbconvert_exporter": "python",
   "pygments_lexer": "ipython2",
   "version": "2.7.15"
  }
 },
 "nbformat": 4,
 "nbformat_minor": 2
}
