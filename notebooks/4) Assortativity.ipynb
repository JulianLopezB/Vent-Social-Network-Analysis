{
 "cells": [
  {
   "cell_type": "code",
   "execution_count": 1,
   "metadata": {},
   "outputs": [],
   "source": [
    "import snap\n",
    "from operator import itemgetter\n",
    "import matplotlib.pyplot as plt\n",
    "import networkx as nx\n",
    "import pandas as pd\n",
    "from random import choice\n",
    "from pandas import datetools\n",
    "import datetime\n",
    "import numpy as np\n",
    "from __future__ import division"
   ]
  },
  {
   "cell_type": "markdown",
   "metadata": {},
   "source": [
    "### For whole network run this:"
   ]
  },
  {
   "cell_type": "code",
   "execution_count": 2,
   "metadata": {},
   "outputs": [],
   "source": [
    "edges = pd.read_csv(\"data/edges_filtered.csv\", ',')\n",
    "G = nx.from_pandas_edgelist(edges, '0', '1', True, nx.DiGraph())\n",
    "metadata_filtered = pd.read_csv('data/metadata_filtered.csv',' ')\n",
    "metadata_filtered['Timestamp']=metadata_filtered['created_at'].astype('datetime64')\n",
    "del metadata_filtered['Unnamed: 0']\n",
    "metadata_filtered=metadata_filtered.rename(index=str, columns={\"user_id\": \"id\"})"
   ]
  },
  {
   "cell_type": "markdown",
   "metadata": {},
   "source": [
    "### For ego-networks run this:"
   ]
  },
  {
   "cell_type": "code",
   "execution_count": 2,
   "metadata": {},
   "outputs": [],
   "source": [
    "ego = 1"
   ]
  },
  {
   "cell_type": "code",
   "execution_count": 3,
   "metadata": {},
   "outputs": [],
   "source": [
    "ego_edges = pd.read_csv('data/Ego '+str(ego)+'/ego_edges'+str(ego)+'.csv',',', index_col=None, comment='#')\n",
    "ego_nodes = pd.read_csv('data/Ego '+str(ego)+'/ego_nodes'+str(ego)+'.csv',',', index_col=None, comment='#')\n",
    "metadata_filtered = pd.read_csv('data/Ego '+str(ego)+'/ego_meta'+str(ego)+'.csv', ',')\n",
    "metadata_filtered['Timestamp']=metadata_filtered['Timestamp'].astype('datetime64')\n",
    "metadata_filtered=metadata_filtered.sort_values(by=['Timestamp'])\n",
    "G = nx.from_pandas_edgelist(ego_edges, 'Source', 'Target', True, nx.DiGraph())"
   ]
  },
  {
   "cell_type": "markdown",
   "metadata": {},
   "source": [
    "### Attribute assortativity"
   ]
  },
  {
   "cell_type": "code",
   "execution_count": 8,
   "metadata": {},
   "outputs": [],
   "source": [
    "metadata_mode = metadata_filtered.groupby('id')['emotion_category_id'].apply(lambda x: x.value_counts().index[0]).reset_index()"
   ]
  },
  {
   "cell_type": "code",
   "execution_count": 29,
   "metadata": {},
   "outputs": [],
   "source": [
    "# We populate the graph with the most frequent emotions\n",
    "for id in G.nodes:\n",
    "    G.nodes[id]['emotion'] = metadata_mode[metadata_mode['id']==id].emotion_category_id.item()"
   ]
  },
  {
   "cell_type": "code",
   "execution_count": 30,
   "metadata": {},
   "outputs": [],
   "source": [
    "nodes_attributes = []\n",
    "for (p, d) in G.nodes(data=True):\n",
    "    if len(d.values())>0 :\n",
    "        nodes_attributes.append(p)"
   ]
  },
  {
   "cell_type": "code",
   "execution_count": 31,
   "metadata": {},
   "outputs": [],
   "source": [
    "attr_assortativity = nx.attribute_assortativity_coefficient(G, 'emotion', nodes_attributes)"
   ]
  },
  {
   "cell_type": "code",
   "execution_count": 32,
   "metadata": {},
   "outputs": [
    {
     "data": {
      "text/plain": [
       "0.029460145549295522"
      ]
     },
     "execution_count": 32,
     "metadata": {},
     "output_type": "execute_result"
    }
   ],
   "source": [
    "attr_assortativity"
   ]
  },
  {
   "cell_type": "markdown",
   "metadata": {},
   "source": [
    "### Numeric assortativity"
   ]
  },
  {
   "cell_type": "code",
   "execution_count": 4,
   "metadata": {},
   "outputs": [],
   "source": [
    "metadata_mode = pd.DataFrame(metadata_filtered.groupby('id')['reactions'].sum())\n",
    "metadata_mode['id'] = metadata_mode.index"
   ]
  },
  {
   "cell_type": "code",
   "execution_count": 5,
   "metadata": {},
   "outputs": [],
   "source": [
    "for id in G.nodes:\n",
    "    G.nodes[id]['reactions'] = metadata_mode[metadata_mode['id']==id].reactions.item()"
   ]
  },
  {
   "cell_type": "code",
   "execution_count": 6,
   "metadata": {},
   "outputs": [],
   "source": [
    "nodes_attributes = []\n",
    "for (p, d) in G.nodes(data=True):\n",
    "    if len(d.values())>0 :\n",
    "        nodes_attributes.append(p)"
   ]
  },
  {
   "cell_type": "code",
   "execution_count": 7,
   "metadata": {},
   "outputs": [],
   "source": [
    "numeric_asortativity = nx.numeric_assortativity_coefficient(G, 'reactions', nodes_attributes)"
   ]
  },
  {
   "cell_type": "code",
   "execution_count": 8,
   "metadata": {},
   "outputs": [
    {
     "data": {
      "text/plain": [
       "-0.16248798167330167"
      ]
     },
     "execution_count": 8,
     "metadata": {},
     "output_type": "execute_result"
    }
   ],
   "source": [
    "numeric_asortativity"
   ]
  },
  {
   "cell_type": "markdown",
   "metadata": {},
   "source": [
    "### Degree assortativity"
   ]
  },
  {
   "cell_type": "code",
   "execution_count": 3,
   "metadata": {},
   "outputs": [],
   "source": [
    "degree_assortativity = nx.degree_assortativity_coefficient(G)"
   ]
  },
  {
   "cell_type": "code",
   "execution_count": 4,
   "metadata": {},
   "outputs": [
    {
     "data": {
      "text/plain": [
       "-0.12075149552057499"
      ]
     },
     "execution_count": 4,
     "metadata": {},
     "output_type": "execute_result"
    }
   ],
   "source": [
    "degree_assortativity"
   ]
  },
  {
   "cell_type": "markdown",
   "metadata": {},
   "source": [
    "### Pearson assortativity"
   ]
  },
  {
   "cell_type": "code",
   "execution_count": null,
   "metadata": {},
   "outputs": [],
   "source": [
    "pearson_assortativity = nx.degree_pearson_correlation_coefficient(G)"
   ]
  },
  {
   "cell_type": "code",
   "execution_count": null,
   "metadata": {},
   "outputs": [],
   "source": [
    "pearson_assortativity"
   ]
  },
  {
   "cell_type": "markdown",
   "metadata": {},
   "source": [
    "### Attribute Assortativity by Last emotion from each user"
   ]
  },
  {
   "cell_type": "code",
   "execution_count": null,
   "metadata": {},
   "outputs": [],
   "source": [
    "n_sims=100\n",
    "assortativity0=[]\n",
    "for i in np.arange(0,n_sims,1):\n",
    "    \n",
    "    vent = metadata_filtered.sample(1)\n",
    "    idx = metadata_filtered.Timestamp.values <= vent.Timestamp.values\n",
    "    metadata_last = metadata_filtered[idx]\n",
    "    idx = metadata_last.groupby(['id'])['Timestamp'].transform(max) == metadata_last['Timestamp']\n",
    "    metadata_last = metadata_last[idx]\n",
    "\n",
    "    for id in metadata_last['id']:\n",
    "        while G.has_node(id):\n",
    "            G.nodes[id]['emotion'] = metadata_last[metadata_last['id']==id]['emotion_category_id'].item()\n",
    "    \n",
    "    nodes_attributes = []\n",
    "\n",
    "    for (p, d) in G.nodes(data=True):\n",
    "        if len(d.values())>0 :\n",
    "            nodes_attributes.append(p)\n",
    "        \n",
    "    assortativity1 = nx.attribute_assortativity_coefficient(G, 'emotion', nodes_attributes)\n",
    "    assortativity0 = np.append(assortativity0, assortativity1)\n",
    "\n",
    "assortativity_avg = np.mean(assortativity0)"
   ]
  },
  {
   "cell_type": "code",
   "execution_count": null,
   "metadata": {},
   "outputs": [],
   "source": [
    "assortativity_avg"
   ]
  }
 ],
 "metadata": {
  "kernelspec": {
   "display_name": "Python 2",
   "language": "python",
   "name": "python2"
  },
  "language_info": {
   "codemirror_mode": {
    "name": "ipython",
    "version": 2
   },
   "file_extension": ".py",
   "mimetype": "text/x-python",
   "name": "python",
   "nbconvert_exporter": "python",
   "pygments_lexer": "ipython2",
   "version": "2.7.15"
  }
 },
 "nbformat": 4,
 "nbformat_minor": 2
}
